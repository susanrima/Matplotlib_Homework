{
 "cells": [
  {
   "cell_type": "code",
   "execution_count": 1,
   "metadata": {},
   "outputs": [],
   "source": [
    "%matplotlib inline\n",
    "\n",
    "# Dependencies and Setup\n",
    "\n",
    "import matplotlib.pyplot as plt\n",
    "import pandas as pd\n",
    "import numpy as np\n"
   ]
  },
  {
   "cell_type": "code",
   "execution_count": 2,
   "metadata": {},
   "outputs": [
    {
     "data": {
      "text/html": [
       "<div>\n",
       "<style scoped>\n",
       "    .dataframe tbody tr th:only-of-type {\n",
       "        vertical-align: middle;\n",
       "    }\n",
       "\n",
       "    .dataframe tbody tr th {\n",
       "        vertical-align: top;\n",
       "    }\n",
       "\n",
       "    .dataframe thead th {\n",
       "        text-align: right;\n",
       "    }\n",
       "</style>\n",
       "<table border=\"1\" class=\"dataframe\">\n",
       "  <thead>\n",
       "    <tr style=\"text-align: right;\">\n",
       "      <th></th>\n",
       "      <th>city</th>\n",
       "      <th>date</th>\n",
       "      <th>fare</th>\n",
       "      <th>ride_id</th>\n",
       "      <th>driver_count</th>\n",
       "      <th>type</th>\n",
       "    </tr>\n",
       "  </thead>\n",
       "  <tbody>\n",
       "    <tr>\n",
       "      <th>0</th>\n",
       "      <td>Richardfort</td>\n",
       "      <td>2018-02-24 08:40:38</td>\n",
       "      <td>13.93</td>\n",
       "      <td>5628545007794</td>\n",
       "      <td>38</td>\n",
       "      <td>Urban</td>\n",
       "    </tr>\n",
       "    <tr>\n",
       "      <th>1</th>\n",
       "      <td>Richardfort</td>\n",
       "      <td>2018-02-13 12:46:07</td>\n",
       "      <td>14.00</td>\n",
       "      <td>910050116494</td>\n",
       "      <td>38</td>\n",
       "      <td>Urban</td>\n",
       "    </tr>\n",
       "    <tr>\n",
       "      <th>2</th>\n",
       "      <td>Richardfort</td>\n",
       "      <td>2018-02-16 13:52:19</td>\n",
       "      <td>17.92</td>\n",
       "      <td>820639054416</td>\n",
       "      <td>38</td>\n",
       "      <td>Urban</td>\n",
       "    </tr>\n",
       "    <tr>\n",
       "      <th>3</th>\n",
       "      <td>Richardfort</td>\n",
       "      <td>2018-02-01 20:18:28</td>\n",
       "      <td>10.26</td>\n",
       "      <td>9554935945413</td>\n",
       "      <td>38</td>\n",
       "      <td>Urban</td>\n",
       "    </tr>\n",
       "    <tr>\n",
       "      <th>4</th>\n",
       "      <td>Richardfort</td>\n",
       "      <td>2018-04-17 02:26:37</td>\n",
       "      <td>23.00</td>\n",
       "      <td>720020655850</td>\n",
       "      <td>38</td>\n",
       "      <td>Urban</td>\n",
       "    </tr>\n",
       "  </tbody>\n",
       "</table>\n",
       "</div>"
      ],
      "text/plain": [
       "          city                 date   fare        ride_id  driver_count   type\n",
       "0  Richardfort  2018-02-24 08:40:38  13.93  5628545007794            38  Urban\n",
       "1  Richardfort  2018-02-13 12:46:07  14.00   910050116494            38  Urban\n",
       "2  Richardfort  2018-02-16 13:52:19  17.92   820639054416            38  Urban\n",
       "3  Richardfort  2018-02-01 20:18:28  10.26  9554935945413            38  Urban\n",
       "4  Richardfort  2018-04-17 02:26:37  23.00   720020655850            38  Urban"
      ]
     },
     "execution_count": 2,
     "metadata": {},
     "output_type": "execute_result"
    }
   ],
   "source": [
    "# File to Load\n",
    "city_data_to_load = \"data/city_data.csv\"\n",
    "ride_data_to_load = \"data/ride_data.csv\"\n",
    "\n",
    "# Read the City and Ride Data\n",
    "city_data = pd.read_csv(city_data_to_load)\n",
    "city_data.head()\n",
    "\n",
    "ride_data = pd.read_csv(ride_data_to_load)\n",
    "ride_data.head()\n",
    "\n",
    "# Combine the data into a single dataset\n",
    "City_ride_merged_df = pd.merge(city_data, ride_data, on = 'city')\n",
    "\n",
    "# Display the data table for preview\n",
    "City_ride_merged_df = City_ride_merged_df[['city','date','fare','ride_id','driver_count','type']]\n",
    "City_ride_merged_df.head()"
   ]
  },
  {
   "cell_type": "code",
   "execution_count": 3,
   "metadata": {},
   "outputs": [
    {
     "data": {
      "text/html": [
       "<div>\n",
       "<style scoped>\n",
       "    .dataframe tbody tr th:only-of-type {\n",
       "        vertical-align: middle;\n",
       "    }\n",
       "\n",
       "    .dataframe tbody tr th {\n",
       "        vertical-align: top;\n",
       "    }\n",
       "\n",
       "    .dataframe thead th {\n",
       "        text-align: right;\n",
       "    }\n",
       "</style>\n",
       "<table border=\"1\" class=\"dataframe\">\n",
       "  <thead>\n",
       "    <tr style=\"text-align: right;\">\n",
       "      <th></th>\n",
       "      <th>city</th>\n",
       "      <th>Avg fare</th>\n",
       "      <th>Number of rides</th>\n",
       "      <th>Type of City</th>\n",
       "      <th>Number of drivers</th>\n",
       "    </tr>\n",
       "  </thead>\n",
       "  <tbody>\n",
       "    <tr>\n",
       "      <th>0</th>\n",
       "      <td>Amandaburgh</td>\n",
       "      <td>24.641667</td>\n",
       "      <td>18</td>\n",
       "      <td>Urban</td>\n",
       "      <td>12</td>\n",
       "    </tr>\n",
       "    <tr>\n",
       "      <th>1</th>\n",
       "      <td>Barajasview</td>\n",
       "      <td>25.332273</td>\n",
       "      <td>22</td>\n",
       "      <td>Urban</td>\n",
       "      <td>26</td>\n",
       "    </tr>\n",
       "    <tr>\n",
       "      <th>2</th>\n",
       "      <td>Barronchester</td>\n",
       "      <td>36.422500</td>\n",
       "      <td>16</td>\n",
       "      <td>Suburban</td>\n",
       "      <td>11</td>\n",
       "    </tr>\n",
       "    <tr>\n",
       "      <th>3</th>\n",
       "      <td>Bethanyland</td>\n",
       "      <td>32.956111</td>\n",
       "      <td>18</td>\n",
       "      <td>Suburban</td>\n",
       "      <td>22</td>\n",
       "    </tr>\n",
       "    <tr>\n",
       "      <th>4</th>\n",
       "      <td>Bradshawfurt</td>\n",
       "      <td>40.064000</td>\n",
       "      <td>10</td>\n",
       "      <td>Rural</td>\n",
       "      <td>7</td>\n",
       "    </tr>\n",
       "  </tbody>\n",
       "</table>\n",
       "</div>"
      ],
      "text/plain": [
       "            city   Avg fare  Number of rides Type of City  Number of drivers\n",
       "0    Amandaburgh  24.641667               18        Urban                 12\n",
       "1    Barajasview  25.332273               22        Urban                 26\n",
       "2  Barronchester  36.422500               16     Suburban                 11\n",
       "3    Bethanyland  32.956111               18     Suburban                 22\n",
       "4   Bradshawfurt  40.064000               10        Rural                  7"
      ]
     },
     "execution_count": 3,
     "metadata": {},
     "output_type": "execute_result"
    }
   ],
   "source": [
    "# Using aggregate function for calculations on the columns and groupby to group by city\n",
    "\n",
    "Grouped_by_city_df = City_ride_merged_df[['city','fare','ride_id','driver_count','type']].groupby('city').agg({'fare': 'mean', 'ride_id': 'count', 'type' : 'first', 'driver_count' : 'first'}).reset_index()\n",
    "Grouped_by_city_df.rename(columns={'fare':'Avg fare', 'ride_id':'Number of rides', 'type': 'Type of City','driver_count': 'Number of drivers'}, inplace=True)\n",
    "Grouped_by_city_df.head()\n",
    "\n"
   ]
  },
  {
   "cell_type": "code",
   "execution_count": 4,
   "metadata": {},
   "outputs": [
    {
     "data": {
      "text/html": [
       "<div>\n",
       "<style scoped>\n",
       "    .dataframe tbody tr th:only-of-type {\n",
       "        vertical-align: middle;\n",
       "    }\n",
       "\n",
       "    .dataframe tbody tr th {\n",
       "        vertical-align: top;\n",
       "    }\n",
       "\n",
       "    .dataframe thead th {\n",
       "        text-align: right;\n",
       "    }\n",
       "</style>\n",
       "<table border=\"1\" class=\"dataframe\">\n",
       "  <thead>\n",
       "    <tr style=\"text-align: right;\">\n",
       "      <th></th>\n",
       "      <th>city</th>\n",
       "      <th>Avg fare</th>\n",
       "      <th>Number of rides</th>\n",
       "      <th>Type of City</th>\n",
       "      <th>Number of drivers</th>\n",
       "    </tr>\n",
       "  </thead>\n",
       "  <tbody>\n",
       "    <tr>\n",
       "      <th>4</th>\n",
       "      <td>Bradshawfurt</td>\n",
       "      <td>40.064000</td>\n",
       "      <td>10</td>\n",
       "      <td>Rural</td>\n",
       "      <td>7</td>\n",
       "    </tr>\n",
       "    <tr>\n",
       "      <th>17</th>\n",
       "      <td>Garzaport</td>\n",
       "      <td>24.123333</td>\n",
       "      <td>3</td>\n",
       "      <td>Rural</td>\n",
       "      <td>7</td>\n",
       "    </tr>\n",
       "    <tr>\n",
       "      <th>20</th>\n",
       "      <td>Harringtonfort</td>\n",
       "      <td>33.470000</td>\n",
       "      <td>6</td>\n",
       "      <td>Rural</td>\n",
       "      <td>4</td>\n",
       "    </tr>\n",
       "    <tr>\n",
       "      <th>24</th>\n",
       "      <td>Jessicaport</td>\n",
       "      <td>36.013333</td>\n",
       "      <td>6</td>\n",
       "      <td>Rural</td>\n",
       "      <td>1</td>\n",
       "    </tr>\n",
       "    <tr>\n",
       "      <th>33</th>\n",
       "      <td>Lake Jamie</td>\n",
       "      <td>34.358333</td>\n",
       "      <td>6</td>\n",
       "      <td>Rural</td>\n",
       "      <td>4</td>\n",
       "    </tr>\n",
       "  </tbody>\n",
       "</table>\n",
       "</div>"
      ],
      "text/plain": [
       "              city   Avg fare  Number of rides Type of City  Number of drivers\n",
       "4     Bradshawfurt  40.064000               10        Rural                  7\n",
       "17       Garzaport  24.123333                3        Rural                  7\n",
       "20  Harringtonfort  33.470000                6        Rural                  4\n",
       "24     Jessicaport  36.013333                6        Rural                  1\n",
       "33      Lake Jamie  34.358333                6        Rural                  4"
      ]
     },
     "execution_count": 4,
     "metadata": {},
     "output_type": "execute_result"
    }
   ],
   "source": [
    "#Dataframes by City Types | Urban, Suburban, Rural\n",
    "\n",
    "Urban_df = Grouped_by_city_df.loc[Grouped_by_city_df['Type of City']=='Urban']\n",
    "Suburban_df = Grouped_by_city_df.loc[Grouped_by_city_df['Type of City']=='Suburban']\n",
    "Rural_df = Grouped_by_city_df.loc[Grouped_by_city_df['Type of City']=='Rural']\n",
    "Rural_df.head()"
   ]
  },
  {
   "cell_type": "code",
   "execution_count": 5,
   "metadata": {
    "scrolled": true
   },
   "outputs": [
    {
     "data": {
      "image/png": "[encoded data removed]",
      "text/plain": [
       "<Figure size 432x288 with 1 Axes>"
      ]
     },
     "metadata": {
      "needs_background": "light"
     },
     "output_type": "display_data"
    }
   ],
   "source": [
    "#Build the scatter plot\n",
    "\n",
    "colors = {'Urban':'Coral', 'Suburban':'SkyBlue', 'Rural':'Gold'}\n",
    "fig, ax = plt.subplots()\n",
    "\n",
    "Urban = ax.scatter(Urban_df['Number of rides'], Urban_df['Avg fare'],\n",
    "            s=8*Urban_df['Number of drivers'], c=Urban_df['Type of City'].apply(lambda x: colors[x]), edgecolors='Black', alpha=0.7,\n",
    "            label='Urban')\n",
    "\n",
    "Suburban = ax.scatter(Suburban_df['Number of rides'], Suburban_df['Avg fare'],\n",
    "            s=8*Suburban_df['Number of drivers'], c=Suburban_df['Type of City'].apply(lambda x: colors[x]), edgecolors='Black', alpha=0.7,\n",
    "            label='Suburban')\n",
    "\n",
    "Rural = ax.scatter(Rural_df['Number of rides'], Rural_df['Avg fare'],\n",
    "            s=8*Rural_df['Number of drivers'], c=Rural_df['Type of City'].apply(lambda x: colors[x]), edgecolors='Black', alpha=0.7,\n",
    "            label='Rural')\n",
    "\n",
    "\n",
    "plt.title(\"Pyber Ride Sharing Data (2016)\")\n",
    "plt.xlabel(\"Total Number of Rides (Per City)\")\n",
    "plt.ylabel(\"Average Fare ($)\")\n",
    "#Adding a text next to the plot\n",
    "textstr = 'Note:\\nCircle size correlates with driver count per city'\n",
    "# print textstr\n",
    "plt.text(42, 35, textstr, fontsize=10)\n",
    "plt.grid(True)\n",
    "\n",
    "plt.legend(markerscale=0.5)\n",
    "\n",
    "\n",
    "plt.show()"
   ]
  },
  {
   "cell_type": "markdown",
   "metadata": {},
   "source": [
    "## Bubble Plot of Ride Sharing Data"
   ]
  },
  {
   "cell_type": "code",
   "execution_count": null,
   "metadata": {},
   "outputs": [],
   "source": [
    "# Obtain the x and y coordinates for each of the three city types\n",
    "\n",
    "# Build the scatter plots for each city types\n",
    "\n",
    "# Incorporate the other graph properties\n",
    "\n",
    "# Create a legend\n",
    "\n",
    "# Incorporate a text label regarding circle size\n",
    "\n",
    "# Save Figure\n"
   ]
  },
  {
   "cell_type": "markdown",
   "metadata": {},
   "source": [
    "## Total Fares by City Type"
   ]
  },
  {
   "cell_type": "code",
   "execution_count": 6,
   "metadata": {},
   "outputs": [
    {
     "data": {
      "text/html": [
       "<div>\n",
       "<style scoped>\n",
       "    .dataframe tbody tr th:only-of-type {\n",
       "        vertical-align: middle;\n",
       "    }\n",
       "\n",
       "    .dataframe tbody tr th {\n",
       "        vertical-align: top;\n",
       "    }\n",
       "\n",
       "    .dataframe thead th {\n",
       "        text-align: right;\n",
       "    }\n",
       "</style>\n",
       "<table border=\"1\" class=\"dataframe\">\n",
       "  <thead>\n",
       "    <tr style=\"text-align: right;\">\n",
       "      <th></th>\n",
       "      <th>Type of City</th>\n",
       "      <th>Total Fare</th>\n",
       "    </tr>\n",
       "  </thead>\n",
       "  <tbody>\n",
       "    <tr>\n",
       "      <th>0</th>\n",
       "      <td>Rural</td>\n",
       "      <td>4327.93</td>\n",
       "    </tr>\n",
       "    <tr>\n",
       "      <th>1</th>\n",
       "      <td>Suburban</td>\n",
       "      <td>19356.33</td>\n",
       "    </tr>\n",
       "    <tr>\n",
       "      <th>2</th>\n",
       "      <td>Urban</td>\n",
       "      <td>39854.38</td>\n",
       "    </tr>\n",
       "  </tbody>\n",
       "</table>\n",
       "</div>"
      ],
      "text/plain": [
       "  Type of City  Total Fare\n",
       "0        Rural     4327.93\n",
       "1     Suburban    19356.33\n",
       "2        Urban    39854.38"
      ]
     },
     "execution_count": 6,
     "metadata": {},
     "output_type": "execute_result"
    }
   ],
   "source": [
    "# Calculate Type Percents\n",
    "\n",
    "TotalFares_city_df = City_ride_merged_df[['city','fare','ride_id','driver_count','type']].groupby('type').agg({'fare': 'sum'}).reset_index()\n",
    "\n",
    "TotalFares_city_df.rename(columns={'fare':'Total Fare', 'type': 'Type of City'}, inplace=True)\n",
    "\n",
    "TotalFares_city_df.head()"
   ]
  },
  {
   "cell_type": "code",
   "execution_count": 14,
   "metadata": {},
   "outputs": [
    {
     "data": {
      "image/png": "[encoded data removed]",
      "text/plain": [
       "<Figure size 432x288 with 1 Axes>"
      ]
     },
     "metadata": {},
     "output_type": "display_data"
    }
   ],
   "source": [
    "# Build Pie Chart\n",
    "\n",
    "labels = TotalFares_city_df['Type of City']\n",
    "explode = (0,0,0.1)\n",
    "colors_pie = {'Urban':'Coral', 'Suburban':'SkyBlue', 'Rural':'Gold'}\n",
    "\n",
    "    \n",
    "ax = plt.subplot()\n",
    "pie_wedge_collection = ax.pie(TotalFares_city_df['Total Fare'], labels=labels, explode = explode, shadow=True,\n",
    "                              startangle=140, autopct='%1.1f%%', radius=1)\n",
    "\n",
    "\n",
    "for pie_wedge in pie_wedge_collection[0]:\n",
    "    \n",
    "  \n",
    "    pie_wedge.set_facecolor(colors_pie[pie_wedge.get_label()])\n",
    "    \n",
    "\n",
    "#plt.axis(\"equal\")\n",
    "plt.title(\"% of Total Fares by City Type\")\n",
    "\n",
    "#Save figure\n",
    "plt.savefig(\"./Images/TotalFaresByCityType.png\")\n",
    "plt.show()"
   ]
  },
  {
   "cell_type": "markdown",
   "metadata": {},
   "source": [
    "## Total Rides by City Type"
   ]
  },
  {
   "cell_type": "code",
   "execution_count": 9,
   "metadata": {},
   "outputs": [
    {
     "data": {
      "text/html": [
       "<div>\n",
       "<style scoped>\n",
       "    .dataframe tbody tr th:only-of-type {\n",
       "        vertical-align: middle;\n",
       "    }\n",
       "\n",
       "    .dataframe tbody tr th {\n",
       "        vertical-align: top;\n",
       "    }\n",
       "\n",
       "    .dataframe thead th {\n",
       "        text-align: right;\n",
       "    }\n",
       "</style>\n",
       "<table border=\"1\" class=\"dataframe\">\n",
       "  <thead>\n",
       "    <tr style=\"text-align: right;\">\n",
       "      <th></th>\n",
       "      <th>Type of City</th>\n",
       "      <th>Total Rides</th>\n",
       "    </tr>\n",
       "  </thead>\n",
       "  <tbody>\n",
       "    <tr>\n",
       "      <th>0</th>\n",
       "      <td>Rural</td>\n",
       "      <td>125</td>\n",
       "    </tr>\n",
       "    <tr>\n",
       "      <th>1</th>\n",
       "      <td>Suburban</td>\n",
       "      <td>625</td>\n",
       "    </tr>\n",
       "    <tr>\n",
       "      <th>2</th>\n",
       "      <td>Urban</td>\n",
       "      <td>1625</td>\n",
       "    </tr>\n",
       "  </tbody>\n",
       "</table>\n",
       "</div>"
      ],
      "text/plain": [
       "  Type of City  Total Rides\n",
       "0        Rural          125\n",
       "1     Suburban          625\n",
       "2        Urban         1625"
      ]
     },
     "execution_count": 9,
     "metadata": {},
     "output_type": "execute_result"
    }
   ],
   "source": [
    "# Calculate Ride Percents\n",
    "\n",
    "\n",
    "TotalRides_city_df = City_ride_merged_df[['city','fare','ride_id','driver_count','type']].groupby('type').agg({'ride_id': 'count'}).reset_index()\n",
    "\n",
    "TotalRides_city_df.rename(columns={'ride_id':'Total Rides', 'type': 'Type of City'}, inplace=True)\n",
    "\n",
    "TotalRides_city_df.head()\n"
   ]
  },
  {
   "cell_type": "code",
   "execution_count": 29,
   "metadata": {},
   "outputs": [
    {
     "data": {
      "image/png": "[encoded data removed]",
      "text/plain": [
       "<Figure size 432x288 with 1 Axes>"
      ]
     },
     "metadata": {},
     "output_type": "display_data"
    }
   ],
   "source": [
    "# Build Pie Chart\n",
    "\n",
    "labels = TotalRides_city_df['Type of City']\n",
    "explode = (0,0,0.1)\n",
    "colors_pie = {'Urban':'Coral', 'Suburban':'SkyBlue', 'Rural':'Gold'}\n",
    "\n",
    "    \n",
    "ax = plt.subplot()\n",
    "pie_wedge_collection_rides = ax.pie(TotalRides_city_df['Total Rides'], labels=labels, explode = explode, shadow=True,\n",
    "                              startangle=160, autopct='%1.1f%%', radius=1)\n",
    "\n",
    "\n",
    "for pie_wedge in pie_wedge_collection_rides[0]:\n",
    "\n",
    "    pie_wedge.set_facecolor(colors_pie[pie_wedge.get_label()])\n",
    "    \n",
    "\n",
    "#plot the pie chart\n",
    "plt.title(\"% of Total Rides by City Type\")\n",
    "\n",
    "#Save figure\n",
    "plt.savefig(\"./Images/TotalRidesByCityType.png\")\n",
    "plt.show()"
   ]
  },
  {
   "cell_type": "code",
   "execution_count": null,
   "metadata": {},
   "outputs": [],
   "source": []
  },
  {
   "cell_type": "markdown",
   "metadata": {},
   "source": [
    "## Total Drivers by City Type"
   ]
  },
  {
   "cell_type": "code",
   "execution_count": 24,
   "metadata": {},
   "outputs": [
    {
     "data": {
      "text/html": [
       "<div>\n",
       "<style scoped>\n",
       "    .dataframe tbody tr th:only-of-type {\n",
       "        vertical-align: middle;\n",
       "    }\n",
       "\n",
       "    .dataframe tbody tr th {\n",
       "        vertical-align: top;\n",
       "    }\n",
       "\n",
       "    .dataframe thead th {\n",
       "        text-align: right;\n",
       "    }\n",
       "</style>\n",
       "<table border=\"1\" class=\"dataframe\">\n",
       "  <thead>\n",
       "    <tr style=\"text-align: right;\">\n",
       "      <th></th>\n",
       "      <th>Type of City</th>\n",
       "      <th>Total Drivers</th>\n",
       "    </tr>\n",
       "  </thead>\n",
       "  <tbody>\n",
       "    <tr>\n",
       "      <th>0</th>\n",
       "      <td>Rural</td>\n",
       "      <td>78</td>\n",
       "    </tr>\n",
       "    <tr>\n",
       "      <th>1</th>\n",
       "      <td>Suburban</td>\n",
       "      <td>490</td>\n",
       "    </tr>\n",
       "    <tr>\n",
       "      <th>2</th>\n",
       "      <td>Urban</td>\n",
       "      <td>2405</td>\n",
       "    </tr>\n",
       "  </tbody>\n",
       "</table>\n",
       "</div>"
      ],
      "text/plain": [
       "  Type of City  Total Drivers\n",
       "0        Rural             78\n",
       "1     Suburban            490\n",
       "2        Urban           2405"
      ]
     },
     "execution_count": 24,
     "metadata": {},
     "output_type": "execute_result"
    }
   ],
   "source": [
    "# Calculate Driver Percents\n",
    "TotalDrivers_city_df = city_data[['driver_count','type']].groupby('type').agg({'driver_count': 'sum'}).reset_index()\n",
    "\n",
    "TotalDrivers_city_df.rename(columns={'driver_count':'Total Drivers', 'type': 'Type of City'}, inplace=True)\n",
    "\n",
    "TotalDrivers_city_df.head()\n"
   ]
  },
  {
   "cell_type": "code",
   "execution_count": 28,
   "metadata": {},
   "outputs": [
    {
     "name": "stdout",
     "output_type": "stream",
     "text": [
      "Rural\n",
      "Suburban\n",
      "Urban\n"
     ]
    },
    {
     "data": {
      "image/png": "[encoded data removed]",
      "text/plain": [
       "<Figure size 432x288 with 1 Axes>"
      ]
     },
     "metadata": {},
     "output_type": "display_data"
    }
   ],
   "source": [
    "labels = TotalDrivers_city_df['Type of City']\n",
    "explode = (0,0,0.2)\n",
    "colors_pie = {'Urban':'Coral', 'Suburban':'SkyBlue', 'Rural':'Gold'}\n",
    "#plt.pie(TotalDrivers_city_df['Total Drivers'], labels=labels, explode = explode, colors=colors_pie, shadow=True, \n",
    " #       startangle=150, autopct='%1.2f%%')\n",
    "    \n",
    "ax = plt.subplot()\n",
    "pie_wedge_collection_rides = ax.pie(TotalDrivers_city_df['Total Drivers'], labels=labels, explode = explode, shadow=True,\n",
    "                              startangle=160, autopct='%1.1f%%', radius=1)\n",
    "\n",
    "\n",
    "for pie_wedge in pie_wedge_collection_rides[0]:\n",
    "    \n",
    "    print(pie_wedge.get_label())\n",
    "    pie_wedge.set_facecolor(colors_pie[pie_wedge.get_label()])\n",
    "    \n",
    "\n",
    "#plt.axis(\"equal\")\n",
    "plt.title(\"% of Total Drivers by City Type\")\n",
    "plt.savefig(\"./Images/TotalDriversByCityType.png\")\n",
    "plt.show()"
   ]
  },
  {
   "cell_type": "code",
   "execution_count": null,
   "metadata": {
    "scrolled": true
   },
   "outputs": [],
   "source": [
    "# Show Figure\n",
    "plt.show()"
   ]
  },
  {
   "cell_type": "code",
   "execution_count": null,
   "metadata": {},
   "outputs": [],
   "source": []
  }
 ],
 "metadata": {
  "anaconda-cloud": {},
  "kernelspec": {
   "display_name": "Python 3",
   "language": "python",
   "name": "python3"
  },
  "language_info": {
   "codemirror_mode": {
    "name": "ipython",
    "version": 3
   },
   "file_extension": ".py",
   "mimetype": "text/x-python",
   "name": "python",
   "nbconvert_exporter": "python",
   "pygments_lexer": "ipython3",
   "version": "3.7.3"
  }
 },
 "nbformat": 4,
 "nbformat_minor": 2
}
